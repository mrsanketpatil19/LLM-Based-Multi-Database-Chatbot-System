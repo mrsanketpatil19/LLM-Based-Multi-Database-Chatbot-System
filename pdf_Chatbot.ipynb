{
 "cells": [
  {
   "cell_type": "code",
   "execution_count": 1,
   "id": "cec33705",
   "metadata": {},
   "outputs": [
    {
     "name": "stderr",
     "output_type": "stream",
     "text": [
      "/Users/sanket/Documents/Python Projects/New Project LLM MultiDB/langchain_env/lib/python3.9/site-packages/urllib3/__init__.py:35: NotOpenSSLWarning: urllib3 v2 only supports OpenSSL 1.1.1+, currently the 'ssl' module is compiled with 'LibreSSL 2.8.3'. See: https://github.com/urllib3/urllib3/issues/3020\n",
      "  warnings.warn(\n",
      "/Users/sanket/Documents/Python Projects/New Project LLM MultiDB/langchain_env/lib/python3.9/site-packages/tqdm/auto.py:21: TqdmWarning: IProgress not found. Please update jupyter and ipywidgets. See https://ipywidgets.readthedocs.io/en/stable/user_install.html\n",
      "  from .autonotebook import tqdm as notebook_tqdm\n",
      "/Users/sanket/Documents/Python Projects/New Project LLM MultiDB/langchain_env/lib/python3.9/site-packages/langchain_core/_api/deprecation.py:119: LangChainDeprecationWarning: The class `ChatOpenAI` was deprecated in LangChain 0.0.10 and will be removed in 0.2.0. An updated version of the class exists in the langchain-openai package and should be used instead. To use it run `pip install -U langchain-openai` and import as `from langchain_openai import ChatOpenAI`.\n",
      "  warn_deprecated(\n"
     ]
    },
    {
     "name": "stdout",
     "output_type": "stream",
     "text": [
      "📄 PDF ChatBot is ready. Ask any question about your documents.\n"
     ]
    },
    {
     "name": "stderr",
     "output_type": "stream",
     "text": [
      "/Users/sanket/Documents/Python Projects/New Project LLM MultiDB/langchain_env/lib/python3.9/site-packages/langchain_core/_api/deprecation.py:119: LangChainDeprecationWarning: The method `Chain.__call__` was deprecated in langchain 0.1.0 and will be removed in 0.2.0. Use invoke instead.\n",
      "  warn_deprecated(\n"
     ]
    },
    {
     "name": "stdout",
     "output_type": "stream",
     "text": [
      "\n",
      "✅ Answer:\n",
      "If you forget your My UNC Chart username or password, you can click on the \"Forgot Username?\" or \"Forgot Password?\" link below the login fields for assistance. You will be prompted to provide your first and last name, date of birth, and zip code to verify your identity and recover your username or password. If your email address is on file, your username will be sent to that email. If you can't remember the required information or don't have a valid email address on file, you will need to contact the UNC Health Outpatient Access Center at (888) 996-2767 for assistance.\n",
      "\n",
      "📚 Sources:\n",
      "- Page 4 from User Guide.pdf\n",
      "- Page 42 from User Guide.pdf\n",
      "- Page 43 from User Guide.pdf\n",
      "- Page 3 from User Guide.pdf\n",
      "- Page 4 from User Guide.pdf\n",
      "👋 Goodbye!\n"
     ]
    }
   ],
   "source": [
    "import os\n",
    "from dotenv import load_dotenv\n",
    "from langchain.chat_models import ChatOpenAI\n",
    "from langchain.chains import RetrievalQA\n",
    "from langchain.vectorstores import FAISS\n",
    "from langchain.embeddings import HuggingFaceEmbeddings\n",
    "\n",
    "# ✅ Load API key from .env file\n",
    "load_dotenv()\n",
    "openai_api_key = os.getenv(\"OPENAI_API_KEY\")\n",
    "\n",
    "# ✅ Step 1: Load FAISS index\n",
    "embedding_model = HuggingFaceEmbeddings(model_name=\"sentence-transformers/all-MiniLM-L6-v2\")\n",
    "vectorstore = FAISS.load_local(\n",
    "    \"faiss_index_notice_privacy\",\n",
    "    embeddings=embedding_model,\n",
    "    allow_dangerous_deserialization=True  # required for index.pkl\n",
    ")\n",
    "\n",
    "# ✅ Step 2: Set up retriever\n",
    "retriever = vectorstore.as_retriever(\n",
    "    search_type=\"similarity\",  # or \"mmr\"\n",
    "    search_kwargs={\"k\": 5}      # top 5 chunks\n",
    ")\n",
    "\n",
    "# ✅ Step 3: Initialize LLM\n",
    "llm = ChatOpenAI(\n",
    "    model=\"gpt-3.5-turbo\",\n",
    "    temperature=0,\n",
    "    openai_api_key=openai_api_key\n",
    ")\n",
    "\n",
    "# ✅ Step 4: Create RetrievalQA chain\n",
    "qa_chain = RetrievalQA.from_chain_type(\n",
    "    llm=llm,\n",
    "    retriever=retriever,\n",
    "    return_source_documents=True,  # optional: useful for debugging\n",
    "    chain_type=\"stuff\"\n",
    ")\n",
    "\n",
    "# ✅ Step 5: Interactive chatbot loop\n",
    "print(\"📄 PDF ChatBot is ready. Ask any question about your documents.\")\n",
    "while True:\n",
    "    user_query = input(\"\\n🧠 Your question (or type 'exit'): \")\n",
    "    if user_query.lower() in (\"exit\", \"quit\"):\n",
    "        print(\"👋 Goodbye!\")\n",
    "        break\n",
    "\n",
    "    try:\n",
    "        result = qa_chain(user_query)\n",
    "        print(f\"\\n✅ Answer:\\n{result['result']}\")\n",
    "        \n",
    "        # Optional: show sources\n",
    "        print(\"\\n📚 Sources:\")\n",
    "        for doc in result[\"source_documents\"]:\n",
    "            print(f\"- Page {doc.metadata['page']} from {doc.metadata['source']}\")\n",
    "\n",
    "    except Exception as e:\n",
    "        print(f\"\\n❌ Error: {e}\")\n"
   ]
  },
  {
   "cell_type": "code",
   "execution_count": null,
   "id": "d59925f4",
   "metadata": {},
   "outputs": [],
   "source": []
  }
 ],
 "metadata": {
  "kernelspec": {
   "display_name": "langchain_env",
   "language": "python",
   "name": "python3"
  },
  "language_info": {
   "codemirror_mode": {
    "name": "ipython",
    "version": 3
   },
   "file_extension": ".py",
   "mimetype": "text/x-python",
   "name": "python",
   "nbconvert_exporter": "python",
   "pygments_lexer": "ipython3",
   "version": "3.9.6"
  }
 },
 "nbformat": 4,
 "nbformat_minor": 5
}
