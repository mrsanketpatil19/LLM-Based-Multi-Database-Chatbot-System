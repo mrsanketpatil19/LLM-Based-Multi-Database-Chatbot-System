{
 "cells": [
  {
   "cell_type": "markdown",
   "id": "9d31067e",
   "metadata": {},
   "source": [
    "# Notice-of-Privacy-Practice.pdf"
   ]
  },
  {
   "cell_type": "code",
   "execution_count": 11,
   "id": "5405d98f",
   "metadata": {},
   "outputs": [
    {
     "name": "stdout",
     "output_type": "stream",
     "text": [
      "Extracted 15 chunks.\n",
      "{'content': '1 2024 Preventive Medications UNC Health Pharmacy Solutions Certain preventative medications can be obtained at zero or low cost before the deductible is satisfied depending on your specific plan documents. Medications must be covered by your plan to be eligible for the preventive medication program– not all strengths and dosages will be covered. To check the cost of a medication, refer to your benefit handbook or contact customer service at the toll-free member phone number on your benefit plan ID card. Quality Driven and Cost-Conscious Medications As the pharmacy benefit manager for your benefit plan, UNC Health Pharmacy Solutions strives', 'metadata': {'source': 'pdf-pharmacy-solutions-UNC_HDHP_PreventiveMedications_2024.pdf', 'page': 1, 'chunk_id': 0}}\n"
     ]
    }
   ],
   "source": [
    "import fitz  # PyMuPDF\n",
    "import math\n",
    "\n",
    "def extract_chunks_with_metadata(pdf_path, chunk_size=100, chunk_overlap=15):\n",
    "    doc = fitz.open(pdf_path)\n",
    "    all_chunks = []\n",
    "\n",
    "    for page_num in range(len(doc)):\n",
    "        text = doc[page_num].get_text()\n",
    "        words = text.split()\n",
    "        i = 0\n",
    "        chunk_id = 0\n",
    "\n",
    "        while i < len(words):\n",
    "            chunk_words = words[i:i + chunk_size]\n",
    "            chunk_text = ' '.join(chunk_words)\n",
    "\n",
    "            metadata = {\n",
    "                \"source\": pdf_path.split(\"/\")[-1],\n",
    "                \"page\": page_num + 1,\n",
    "                \"chunk_id\": chunk_id\n",
    "            }\n",
    "\n",
    "            all_chunks.append({\n",
    "                \"content\": chunk_text,\n",
    "                \"metadata\": metadata\n",
    "            })\n",
    "\n",
    "            i += chunk_size - chunk_overlap\n",
    "            chunk_id += 1\n",
    "\n",
    "    return all_chunks\n",
    "\n",
    "# Example usage\n",
    "chunks = extract_chunks_with_metadata(\"/Users/sanket/Documents/Python Projects/New Project LLM MultiDB/pdf/pdf-pharmacy-solutions-UNC_HDHP_PreventiveMedications_2024.pdf\")\n",
    "print(f\"Extracted {len(chunks)} chunks.\")\n",
    "print(chunks[0])  # Preview first chunk\n"
   ]
  },
  {
   "cell_type": "markdown",
   "id": "200bdf8c",
   "metadata": {},
   "source": [
    "### 1. Preview All Chunks (Sample View)"
   ]
  },
  {
   "cell_type": "code",
   "execution_count": 2,
   "id": "3719b254",
   "metadata": {},
   "outputs": [
    {
     "name": "stdout",
     "output_type": "stream",
     "text": [
      "\n",
      "--- Chunk 0 ---\n",
      "Page 1 of 8 Version 7 JOINT NOTICE OF PRIVACY PRACTICES OF THE UNIVERSITY OF NORTH CAROLINA HEALTH CARE SYSTEM ORGANIZED HEALTH CARE ARRANGEMENT THIS NOTICE DESCRIBES HOW MEDICAL INFORMATION ABOUT YOU MAY BE USED AND DISCLOSED AND HOW YOU CAN GET ACCESS TO THIS INFORMATION. PLEASE REVIEW IT CAREFULLY. Effective date: May 1, 2019 WHO FOLLOWS THIS NOTICE This Joint Notice of Privacy Practices (“Notice”) applies to entities that are owned or managed by the University of North Carolina Health Care System (“UNCHCS”), including UNCHCS facilities, practices, departments, and other sites of service (“UNCHCS entities”); our employees, contractors, trainees,\n",
      "\n",
      "--- Chunk 1 ---\n",
      "UNCHCS facilities, practices, departments, and other sites of service (“UNCHCS entities”); our employees, contractors, trainees, and volunteers; members of our medical staffs and their approved personnel when providing services to you at a UNCHCS location; and any other members of the UNCHCS workforce who are authorized to use or access your health information (collectively, “we” or “us”). For a list of the UNCHCS entities that follow this Notice, please see our website (www.unchealthcare.org) or call the UNCHCS Privacy Office toll free at 1-833-407-6257. We have formed an Organized Health Care Arrangement (“OHCA”) to enable us to better address your health\n",
      "\n",
      "--- Chunk 2 ---\n",
      "formed an Organized Health Care Arrangement (“OHCA”) to enable us to better address your health care needs by simplifying the ways we protect and use your health information. The OHCA allows us to provide you with this single Notice and to efficiently share your health information among ourselves for purposes of treatment, payment, and health care operations. For example, when physicians, nurses, and other individuals who are not employed by a UNCHCS entity provide health care to you at a UNCHCS location, they are part of the UNCHCS OHCA and abide by this Notice. However, each member of the OHCA\n",
      "\n",
      "--- Chunk 47 ---\n",
      "UNCHCS Privacy Office at (984) 974-1069 or toll-free at (833) 407-6257. We will provide you with a copy of this Notice no later than the date you first receive service from us (except for emergency services, and then we will provide the Notice to you as soon as possible). We will post a copy of the current Notice of Privacy Practices at each treatment facility and on our website: www.unchealthcare.org. CONTACTS FOR QUESTIONS AND COMPLAINTS If you need more information about our privacy practices or have questions about this Notice, if you think we have violated your privacy rights, or\n",
      "\n",
      "--- Chunk 48 ---\n",
      "have questions about this Notice, if you think we have violated your privacy rights, or if you want to complain to us about our privacy practices, you can contact the UNCHCS Privacy Office by phone, email, or US Mail using the contact information listed below: Privacy Office UNC Health Care System 101 Manning Drive Chapel Hill, North Carolina 27514 Privacy@unchealth.unc.edu Phone: (984) 974-1069; toll free (833) 407-6257 If you file a complaint, we will not take any action against you or change our treatment of you in any way. You may also send a written complaint to the United States\n",
      "\n",
      "--- Chunk 49 ---\n",
      "you in any way. You may also send a written complaint to the United States Department of Health and Human Services Office for Civil Rights by sending a letter to 200 Independence Avenue, S.W., Washington, D.C. 20201, calling 1-877-696-6775, or visiting: www.hhs.gov/ocr/privacy/hipaa/complaints/.\n"
     ]
    }
   ],
   "source": [
    "for i in range(3):\n",
    "    print(f\"\\n--- Chunk {i} ---\")\n",
    "    print(chunks[i]['content'])\n",
    "\n",
    "for i in range(-3, 0):\n",
    "    print(f\"\\n--- Chunk {len(chunks) + i} ---\")\n",
    "    print(chunks[i]['content'])\n"
   ]
  },
  {
   "cell_type": "markdown",
   "id": "9becd0e8",
   "metadata": {},
   "source": [
    "### 2. Check for Empty or Very Short Chunks"
   ]
  },
  {
   "cell_type": "code",
   "execution_count": 3,
   "id": "9b92252e",
   "metadata": {},
   "outputs": [
    {
     "name": "stdout",
     "output_type": "stream",
     "text": [
      "⚠️ Short chunk found: {'source': 'Notice-of-Privacy-Practice.pdf', 'page': 1, 'chunk_id': 5}\n"
     ]
    }
   ],
   "source": [
    "for chunk in chunks:\n",
    "    if len(chunk['content'].strip()) < 50:\n",
    "        print(\"⚠️ Short chunk found:\", chunk['metadata'])\n"
   ]
  },
  {
   "cell_type": "markdown",
   "id": "bef03154",
   "metadata": {},
   "source": [
    "### 3. Check Page Coverage"
   ]
  },
  {
   "cell_type": "code",
   "execution_count": 4,
   "id": "fd4391f0",
   "metadata": {},
   "outputs": [
    {
     "name": "stdout",
     "output_type": "stream",
     "text": [
      "Chunks per page: {1: 6, 2: 6, 3: 6, 4: 6, 5: 7, 6: 8, 7: 7, 8: 4}\n"
     ]
    }
   ],
   "source": [
    "from collections import Counter\n",
    "\n",
    "pages = [chunk['metadata']['page'] for chunk in chunks]\n",
    "counts = Counter(pages)\n",
    "print(\"Chunks per page:\", dict(counts))\n"
   ]
  },
  {
   "cell_type": "markdown",
   "id": "11237e28",
   "metadata": {},
   "source": [
    "### 4. Total Word Count Comparison"
   ]
  },
  {
   "cell_type": "code",
   "execution_count": 5,
   "id": "6f96db3d",
   "metadata": {},
   "outputs": [
    {
     "name": "stdout",
     "output_type": "stream",
     "text": [
      "Estimated total words from chunks: 4486\n"
     ]
    }
   ],
   "source": [
    "total_words = sum(len(chunk['content'].split()) for chunk in chunks)\n",
    "print(\"Estimated total words from chunks:\", total_words)\n"
   ]
  },
  {
   "cell_type": "markdown",
   "id": "d359b722",
   "metadata": {},
   "source": [
    "# Creating EMbeddings\n"
   ]
  },
  {
   "cell_type": "code",
   "execution_count": 6,
   "id": "c245c83a",
   "metadata": {},
   "outputs": [
    {
     "name": "stderr",
     "output_type": "stream",
     "text": [
      "/Users/sanket/Documents/Python Projects/New Project LLM MultiDB/langchain_env/lib/python3.9/site-packages/urllib3/__init__.py:35: NotOpenSSLWarning: urllib3 v2 only supports OpenSSL 1.1.1+, currently the 'ssl' module is compiled with 'LibreSSL 2.8.3'. See: https://github.com/urllib3/urllib3/issues/3020\n",
      "  warnings.warn(\n",
      "/Users/sanket/Documents/Python Projects/New Project LLM MultiDB/langchain_env/lib/python3.9/site-packages/tqdm/auto.py:21: TqdmWarning: IProgress not found. Please update jupyter and ipywidgets. See https://ipywidgets.readthedocs.io/en/stable/user_install.html\n",
      "  from .autonotebook import tqdm as notebook_tqdm\n"
     ]
    },
    {
     "name": "stdout",
     "output_type": "stream",
     "text": [
      "✅ FAISS index saved to: faiss_index_notice_privacy\n"
     ]
    }
   ],
   "source": [
    "from langchain.embeddings import HuggingFaceEmbeddings\n",
    "from langchain.vectorstores import FAISS\n",
    "from langchain.schema import Document\n",
    "\n",
    "# Make sure your `chunks` list is already available\n",
    "# Each chunk: {\"content\": str, \"metadata\": dict}\n",
    "\n",
    "# Step 1: Convert to LangChain Documents\n",
    "documents = [\n",
    "    Document(page_content=chunk[\"content\"], metadata=chunk[\"metadata\"])\n",
    "    for chunk in chunks\n",
    "]\n",
    "\n",
    "# Step 2: Load open-source embedding model\n",
    "embedding_model = HuggingFaceEmbeddings(model_name=\"sentence-transformers/all-MiniLM-L6-v2\")\n",
    "\n",
    "# Step 3: Create FAISS vector store\n",
    "vectorstore = FAISS.from_documents(documents, embedding_model)\n",
    "\n",
    "# Step 4: Save FAISS index locally\n",
    "vectorstore.save_local(\"faiss_index_notice_privacy\")\n",
    "print(\"✅ FAISS index saved to: faiss_index_notice_privacy\")\n"
   ]
  },
  {
   "cell_type": "code",
   "execution_count": 15,
   "id": "10b4c6cf",
   "metadata": {},
   "outputs": [
    {
     "name": "stdout",
     "output_type": "stream",
     "text": [
      "📦 Existing FAISS index found. Loading and appending...\n",
      "✅ FAISS index updated and saved at: /Users/sanket/Documents/Python Projects/New Project LLM MultiDB/faiss_index_notice_privacy\n"
     ]
    }
   ],
   "source": [
    "import os\n",
    "from langchain.embeddings import HuggingFaceEmbeddings\n",
    "from langchain.vectorstores import FAISS\n",
    "from langchain.schema import Document\n",
    "\n",
    "# Define FAISS storage path\n",
    "faiss_path = \"/Users/sanket/Documents/Python Projects/New Project LLM MultiDB/faiss_index_notice_privacy\"\n",
    "\n",
    "# Convert chunks to LangChain Document format\n",
    "documents = [\n",
    "    Document(page_content=chunk[\"content\"], metadata=chunk[\"metadata\"])\n",
    "    for chunk in chunks\n",
    "]\n",
    "\n",
    "# Load embedding model\n",
    "embedding_model = HuggingFaceEmbeddings(model_name=\"sentence-transformers/all-MiniLM-L6-v2\")\n",
    "\n",
    "# Check if FAISS index already exists\n",
    "if os.path.exists(f\"{faiss_path}/index.faiss\") and os.path.exists(f\"{faiss_path}/index.pkl\"):\n",
    "    print(\"📦 Existing FAISS index found. Loading and appending...\")\n",
    "    vectorstore = FAISS.load_local(faiss_path, embedding_model, allow_dangerous_deserialization=True)\n",
    "    vectorstore.add_documents(documents)\n",
    "else:\n",
    "    print(\"🆕 No FAISS index found. Creating new one...\")\n",
    "    vectorstore = FAISS.from_documents(documents, embedding_model)\n",
    "\n",
    "# Save the updated index\n",
    "vectorstore.save_local(faiss_path)\n",
    "print(f\"✅ FAISS index updated and saved at: {faiss_path}\")\n",
    "\n",
    "chunks = extract_chunks_with_metadata(\"/Users/sanket/Documents/Python Projects/New Project LLM MultiDB/pdf/User Guide.pdf\")\n"
   ]
  },
  {
   "cell_type": "code",
   "execution_count": 17,
   "id": "af074358",
   "metadata": {},
   "outputs": [
    {
     "name": "stdout",
     "output_type": "stream",
     "text": [
      "📐 FAISS index shape: 120 vectors × 384 dimensions\n"
     ]
    }
   ],
   "source": [
    "from langchain.vectorstores import FAISS\n",
    "from langchain.embeddings import HuggingFaceEmbeddings\n",
    "\n",
    "# Step 1: Load the same embedding model used during index creation\n",
    "embedding_model = HuggingFaceEmbeddings(model_name=\"sentence-transformers/all-MiniLM-L6-v2\")\n",
    "\n",
    "# Step 2: Load the FAISS index\n",
    "vectorstore = FAISS.load_local(\n",
    "    \"faiss_index_notice_privacy\",\n",
    "    embeddings=embedding_model,\n",
    "    allow_dangerous_deserialization=True  # Required if you're using pickle (index.pkl)\n",
    ")\n",
    "\n",
    "# Step 3: Access internal FAISS index\n",
    "index = vectorstore.index\n",
    "\n",
    "# Step 4: Get number of vectors and dimensions\n",
    "num_vectors = index.ntotal\n",
    "embedding_dim = index.d\n",
    "\n",
    "print(f\"📐 FAISS index shape: {num_vectors} vectors × {embedding_dim} dimensions\")\n"
   ]
  },
  {
   "cell_type": "code",
   "execution_count": null,
   "id": "d8b638ae",
   "metadata": {},
   "outputs": [],
   "source": []
  }
 ],
 "metadata": {
  "kernelspec": {
   "display_name": "langchain_env",
   "language": "python",
   "name": "python3"
  },
  "language_info": {
   "codemirror_mode": {
    "name": "ipython",
    "version": 3
   },
   "file_extension": ".py",
   "mimetype": "text/x-python",
   "name": "python",
   "nbconvert_exporter": "python",
   "pygments_lexer": "ipython3",
   "version": "3.9.6"
  }
 },
 "nbformat": 4,
 "nbformat_minor": 5
}
